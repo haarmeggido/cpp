{
 "cells": [
  {
   "cell_type": "markdown",
   "id": "370db0dc",
   "metadata": {},
   "source": [
    "# Przeskok C -> C++ (zapewne pierwsze zajęcia)"
   ]
  },
  {
   "cell_type": "markdown",
   "id": "a4a22ff1",
   "metadata": {},
   "source": [
    "## Różnice między C/C++"
   ]
  },
  {
   "cell_type": "markdown",
   "id": "3e20504b",
   "metadata": {},
   "source": [
    "Jest ich wiele, odsyłam jedynie do [porównania popularności języków programowania](https://www.tiobe.com/tiobe-index/)."
   ]
  },
  {
   "cell_type": "markdown",
   "id": "47de8fab",
   "metadata": {},
   "source": [
    "#### Program: \"Witaj ściecie\" w C++.\n",
    "Przypomnijmy sobie jak wyglądał w C?\n",
    "\n",
    "___________\n",
    "Bo w C++ wyglądałby tak:"
   ]
  },
  {
   "cell_type": "code",
   "execution_count": null,
   "id": "74f5ddb6",
   "metadata": {},
   "outputs": [],
   "source": [
    "#include <iostream>\n",
    "using namespace std;\n",
    "\n",
    "int main() \n",
    "{\n",
    "    cout << \"Witaj świecie C++!\" << endl;\n",
    "}"
   ]
  },
  {
   "cell_type": "markdown",
   "id": "20542db2",
   "metadata": {},
   "source": [
    "Ale niestety to nam nie zadziała, gdyż bawimy się interaktywnym zeszytem Jupyter, który obsługuje coś podobnego do C++, __ale nie jest to C++__, tylko coś bardzo podobnego. Jupyter korzysta z kernela xeus-cling, który interpretuje C++a (a przynajmniej próbuje).    \n",
    "Widoczna powyżej różnica polega na tym, że funkcja `main` jest wszędzie! Drugą różnicą, która się na pewno objawi - jak coś nie działa, a wg Państwa wiedzy powinno, to należy zresetować kernel:D.\n",
    "\n",
    "Jeśli to nie do końca c++, to po co tego używam - mam nadzieję, że się więcej nauczymy! Albo przynajmniej zainspiruje do robienia porządnych notatek.\n",
    "\n",
    "Więcej informacji na temat Jupytera dla C++ w [moim artykule](https://cpp0x.pl/artykuly/Inne-artykuly/Jupyter-+-xeus-cling-Interaktywne-zeszyty-przeplatajace-tekst-i-interpretowany-C++/93).\n",
    "\n",
    "A ogólnie sugeruję aby korzystać z porządnego IDE i opcjonalnie kod kopiować tutaj - bo fajnie wszystko widać."
   ]
  },
  {
   "cell_type": "markdown",
   "id": "bd4cc92c",
   "metadata": {},
   "source": [
    "### Funkcje C vs C++"
   ]
  },
  {
   "cell_type": "markdown",
   "id": "aab53056",
   "metadata": {},
   "source": [
    "#### Funkcja nieprzyjmująca argumentów\n",
    "Jak w C, a jak w C++ zdefiniować funkcję, które nie przyjmuje argumentów?    \n",
    "W C było tak: `void przedstawSie(void)`, zmodyfikuj poniższą tak, aby była w stylu C++:"
   ]
  },
  {
   "cell_type": "code",
   "execution_count": null,
   "id": "3a5ff1d0",
   "metadata": {},
   "outputs": [],
   "source": [
    "#include <iostream>\n",
    "\n",
    "void przedstawSie(int)\n",
    "{\n",
    "    std::cout << \"Jestem funkcja: \" << __FUNCTION__ << std::endl;\n",
    "}\n",
    "\n",
    "przedstawSie();"
   ]
  },
  {
   "cell_type": "markdown",
   "id": "23f6235d",
   "metadata": {},
   "source": [
    "#### Funkcje przyjmujące dowolną ilość dowolnych argumentów (pomińmy jak je potem odczytać)\n",
    "Jak w C, a jak w C++ zrobić funkcję przyjmującą dowolną ilość dowolnych argumentów?    \n",
    "W C było tak: `void polknijWszystko()`, zmodyfikuj poniższą tak, aby była w stylu C++:"
   ]
  },
  {
   "cell_type": "code",
   "execution_count": null,
   "id": "f484e89c",
   "metadata": {},
   "outputs": [],
   "source": [
    "#include <iostream>\n",
    "\n",
    "void polknijWszystko()\n",
    "{\n",
    "    std::cout << __FUNCTION__ << \" wszystko zjadla\" << std::endl;\n",
    "}\n",
    "\n",
    "polknijWszystko(1, \"na\", \"wozie\", 1, \"pod\", \"wozem\");\n",
    "polknijWszystko();\n",
    "polknijWszystko(\"Takich\", 2, \"jak nas\", 3, \"to nie ma ani\", 1, '!');"
   ]
  },
  {
   "cell_type": "markdown",
   "id": "8d3f29aa",
   "metadata": {},
   "source": [
    "#### Przeładowanie nazwy funkcji w C++\n",
    "Czyli bardzo wygodny mechanizm pozwalający użyć tej samej nazwy funkcji, gdy jej argumenty różnią się typem. \n",
    "Tego w C nie mamy (dlatego łatwo się pisze biblioteki w C używane z innych języków programowania). Natomiast my napiszemy sobie kilka wersji funkcji o tej samej nazwie.\n",
    "\n",
    "**UWAGA: Po każdej modyfikacji funkcji kernel należy zresetować**\n",
    "__________________\n",
    "1. Proszę o napisanie/zmodyfikowanie w C++ funkcji `void print` wyświetlającej zadany argument (przy użyciu `std::cout`) i przyjmującej:"
   ]
  },
  {
   "cell_type": "code",
   "execution_count": null,
   "id": "27a27bfb",
   "metadata": {},
   "outputs": [],
   "source": [
    "/// A) liczbę całkowitą\n",
    "#include <iostream>\n",
    "\n",
    "void print(...)\n",
    "{\n",
    "    #warning \"TODO\"\n",
    "}\n",
    "\n",
    "print(44);"
   ]
  },
  {
   "cell_type": "code",
   "execution_count": null,
   "id": "112020a4",
   "metadata": {},
   "outputs": [],
   "source": [
    "/// B) liczbę rzeczywistą\n",
    "#include <iostream>\n",
    "\n",
    "void print(...)\n",
    "{\n",
    "    #warning \"TODO\"\n",
    "}\n",
    "\n",
    "print(5 - 3.1415);"
   ]
  },
  {
   "cell_type": "code",
   "execution_count": null,
   "id": "0fbbb5c9",
   "metadata": {},
   "outputs": [],
   "source": [
    "/// C) strukturę/klasę Ulamek (ang. Fraction) - należy ją zdefiniować oraz poniższą funkcję:\n",
    "#warning \"TODO: prosze zdefiniować strukturę Fraction\"\n"
   ]
  },
  {
   "cell_type": "code",
   "execution_count": null,
   "id": "d46f32bb",
   "metadata": {},
   "outputs": [],
   "source": [
    "#include <iostream>\n",
    "\n",
    "void print(...)\n",
    "{\n",
    "    #warning \"TODO\"\n",
    "}\n",
    "\n",
    "Fraction fraction = {1, 2};\n",
    "print(fraction);"
   ]
  },
  {
   "cell_type": "code",
   "execution_count": null,
   "id": "8354dea4",
   "metadata": {},
   "outputs": [],
   "source": [
    "/// D) dowolny argument (tutaj proszę nie wyświetlać, tylko napisać np. \"Nie mozna wyswietlic argumentu\")\n",
    "#include <iostream>\n",
    "#include <string>\n",
    "\n",
    "void print(...)\n",
    "{\n",
    "    #warning \"TODO\"\n",
    "}\n",
    "\n",
    "std::string text = \"Musicie od siebie wymagać, nawet jakby inni od Was nie wymagali!\";\n",
    "print(text);"
   ]
  },
  {
   "cell_type": "code",
   "execution_count": null,
   "id": "59aa1c72",
   "metadata": {},
   "outputs": [],
   "source": [
    "/// E) wskaźnik do tekstu z domyślnym argumentem\n",
    "#include <iostream>\n",
    "\n",
    "void print(...)\n",
    "{\n",
    "    #warning \"TODO\"\n",
    "}\n",
    "\n",
    "const char* text2 = \"Niesprawiedliwy to ktoś, kto źle używa swoich dóbr, albo uzurpuje sobie cudze dobra, albo do tego co posiada, doszedł w sposób niesprawiedliwy.\";\n",
    "print(text2);"
   ]
  },
  {
   "cell_type": "code",
   "execution_count": null,
   "id": "a7eafee1",
   "metadata": {},
   "outputs": [],
   "source": [
    "/// F) referencję do obiektu\n",
    "#include <iostream>\n",
    "#include <memory> // std::unique_ptr, std::make_unique\n",
    "\n",
    "void print(std::unique_ptr<double> number)\n",
    "{\n",
    "    #warning \"TODO\"\n",
    "    std::cout << *number << std::endl;\n",
    "}\n",
    "\n",
    "std::unique_ptr<double> number = std::make_unique<double>(3.14);\n",
    "print(number);"
   ]
  },
  {
   "cell_type": "code",
   "execution_count": null,
   "id": "f99208b9",
   "metadata": {},
   "outputs": [],
   "source": [
    "/// F) referencję do obiektu\n",
    "class NotCopyableType\n",
    "{\n",
    "    NotCopyableType(const NotCopyableType&) = delete;\n",
    "public:\n",
    "    int number; /// public on purpose\n",
    "};"
   ]
  },
  {
   "cell_type": "code",
   "execution_count": null,
   "id": "87fb7ed2",
   "metadata": {},
   "outputs": [],
   "source": [
    "#include <iostream>\n",
    "\n",
    "void print(const NotCopyableType object)\n",
    "{\n",
    "    #warning \"TODO\"\n",
    "    std::cout << object.number << std::endl;\n",
    "}\n",
    "\n",
    "NotCopyableType notCopyableObject{44};\n",
    "print(notCopyableObject);"
   ]
  },
  {
   "cell_type": "code",
   "execution_count": null,
   "id": "f39f6391",
   "metadata": {},
   "outputs": [],
   "source": [
    "/// G) tablicę liczb (jeden argument to tablica, drugi to rozmiar tablicy)\n",
    "#include <iostream>\n",
    "\n",
    "void print(...)\n",
    "{\n",
    "    #warning \"TODO\"\n",
    "}\n",
    "\n",
    "const int datesOfPopularPolishRebellions[] = {1794, 1806, 1830, 1846, 1863, 1918, 1919, 1944};\n",
    "const std::size_t rebellionsCount = 8; // jak to zrobic lepiej?\n",
    "print(datesOfPopularPolishRebellions, rebellionsCount);"
   ]
  },
  {
   "cell_type": "code",
   "execution_count": null,
   "id": "89daad4b",
   "metadata": {},
   "outputs": [],
   "source": [
    "/// I) *tablicę (przez referencje) tak aby nie podawać rozmiaru (polecam poszukać w internecie)\n",
    "#include <iostream>\n",
    "\n",
    "void print(...)\n",
    "{\n",
    "    #warning \"TODO\"\n",
    "}\n",
    "\n",
    "const unsigned fibbonacciNumbers[] = {0, 1, 1, 2, 3, 5, 8, 13, 21};\n",
    "print(fibbonacciNumbers);\n",
    "\n",
    "// dlaczego nie powinno sie uzywac unsigned tak jak wyzej?"
   ]
  },
  {
   "cell_type": "markdown",
   "id": "c8733ef9",
   "metadata": {},
   "source": [
    "2. Proszę o napisanie funkcji `doubleCopy` przyjmującej tablice liczb (w postaci wskaźników od-do) i zwracającą kopię (alokacja przy pomocy `new`) tablicy z podwojonymi wartościami    \n",
    "    - proszę pamiętać, aby sprawdzić czy wskaźniki nie są `nullptr`\n",
    "    - o czym powinniśmy pamiętać pod koniec funkcji?\n",
    "    - proszę wyświetlić tablice przy użyciu funkcji (może być funkcja `print()` z poprzedniego zadania)"
   ]
  },
  {
   "cell_type": "code",
   "execution_count": null,
   "id": "10708bd7",
   "metadata": {},
   "outputs": [],
   "source": [
    "double* doubleCopy(const double* from, const double *to)\n",
    "{\n",
    "    #warning #TODO\n",
    "    return nullptr;\n",
    "}\n",
    "\n",
    "const double doubleNumbers[] = {3.1415, 2.7182, 5-3.1415};\n",
    "const size_t doubleNumbersCount = sizeof(doubleNumbers) / sizeof(doubleNumbers[0]);\n",
    "\n",
    "const double* numbers1 = doubleCopy(doubleNumbers, doubleNumbers+doubleNumbersCount);\n",
    "const double* numbers2 = doubleCopy(nullptr, nullptr);\n",
    "\n",
    "// to ponizej wyswietli tablice. Uwaga: nie jest to sposób z C++! W języku C++ co by wtedy było?:\n",
    "numbers1"
   ]
  },
  {
   "cell_type": "markdown",
   "id": "48a26763",
   "metadata": {},
   "source": [
    "3. Proszę napisać funkcję `void d2Upper` dla tablicy tekstu (lub typu `std::string`), która zamieni w tekście litery małe \"d\" na duże \"D\" przy użyciu pętli `for`\n",
    "    1. proszę użyć zakresowego `for`\n",
    "    1. proszę użyć `auto` (z C++11)\n",
    "    1. *osoby zaawansowane mogą użyć: [std::replace](https://en.cppreference.com/w/cpp/algorithm/replace) lub [ranges::replace](https://en.cppreference.com/w/cpp/algorithm/ranges/replace)"
   ]
  },
  {
   "cell_type": "code",
   "execution_count": null,
   "id": "24d06bcc",
   "metadata": {},
   "outputs": [],
   "source": [
    "#include <iostream>\n",
    "#include <string>\n",
    "\n",
    "#define USE_STDSTRING 1\n",
    "\n",
    "void d2Upper(...)\n",
    "{\n",
    "    #warning TODO\n",
    "}\n",
    "\n",
    "#if USE_STDSTRING == 1\n",
    "std::string text3 = \"Uniwersytety są skarbnicami wiedzy: studenci przychodzą ze szkol przekonani, ze wiedza już prawie wszystko; po latach odchodzą pewni, ze nie wiedza praktycznie niczego. Gdzie się podziewa ta wiedza? Zostaje na uniwersytecie, gdzie jest starannie suszona i składana w magazynach.\";\n",
    "#else\n",
    "char text3[] = \"Uniwersytety są skarbnicami wiedzy: studenci przychodzą ze szkol przekonani, ze wiedza już prawie wszystko; po latach odchodzą pewni, ze nie wiedza praktycznie niczego. Gdzie się podziewa ta wiedza? Zostaje na uniwersytecie, gdzie jest starannie suszona i składana w magazynach.\";\n",
    "#endif\n",
    "std::cout << text3 << std::endl;\n",
    "d2Upper(text3);\n",
    "std::cout << text3 << std::endl;"
   ]
  },
  {
   "cell_type": "markdown",
   "id": "9cd95310",
   "metadata": {},
   "source": [
    "4. *Proszę o użycie `std::vector<int>`, wpisanie tam przykładowych danych, przekazanie do funkcji `void print(const std::vector<int>& v)`. Dane te proszę wczytać przez `std::cin`."
   ]
  },
  {
   "cell_type": "code",
   "execution_count": null,
   "id": "6a5b4c0d",
   "metadata": {},
   "outputs": [],
   "source": [
    "// wykonanie poniższego otworzy stronę dokumentacji, jest to rozszerzenie kernela do Jupytera:"
   ]
  },
  {
   "cell_type": "code",
   "execution_count": null,
   "id": "cd15dcc2",
   "metadata": {},
   "outputs": [],
   "source": [
    "?std::vector"
   ]
  },
  {
   "cell_type": "code",
   "execution_count": null,
   "id": "8cfeadbc",
   "metadata": {},
   "outputs": [],
   "source": [
    "#include <iostream>\n",
    "#include <vector>\n",
    "\n",
    "void print(const std::vector<int>& v)\n",
    "{\n",
    "    #warning TODO1\n",
    "}\n",
    "\n",
    "std::vector<int> numbers;\n",
    "std::size_t howManyNumbers;\n",
    "#warning TODO2 /// wczytaj do zmiennej\n",
    "numbers.resize(howManyNumbers);\n",
    "for (auto i=0; i < howManyNumbers; ++i)\n",
    "{\n",
    "    #warning TODO3 // wczytaj tutaj\n",
    "    numbers[i];\n",
    "}\n",
    "\n",
    "print(numbers);"
   ]
  },
  {
   "cell_type": "markdown",
   "id": "00e11808",
   "metadata": {},
   "source": [
    "5. Proszę o utworzenie zmiennej wskaźnikowej `pointer`, który nie jest stały i przypisanie do niego adresu stałej. Do takiej operacji potrzebne jest rzutowanie (polecam w stylu C++, ale można też zastosować rzutowanie \"głupie\", które Państwo znają z języka C). Następnie proszę spróbować zmienić wartość przy pomocy wskaźnika. \n",
    "    1. Co się dzieje jeśli w C++ spróbujemy zmienić stałą przy pomocy wskaźnika? A jak to było w C? Proszę spróbować poniżej.\n",
    "    2. Proszę poeksperymentować z wskaźnikami i jakie są różnice?:\n",
    "        - stały wskaźnik\n",
    "        - wskaźnik do stałej\n",
    "        - stały wskaźnik do stałej"
   ]
  },
  {
   "cell_type": "code",
   "execution_count": null,
   "id": "db7e0658",
   "metadata": {},
   "outputs": [],
   "source": [
    "#include <iostream>\n",
    "\n",
    "const int notMutable = 2022;\n",
    "\n",
    "#warning TODO"
   ]
  },
  {
   "cell_type": "markdown",
   "id": "9adc85d0",
   "metadata": {},
   "source": [
    "## Za każde z powyższych zadań jest 1 punkt, można nadgonić aktywnością, maksymalnie 5 punktów dzisiaj"
   ]
  },
  {
   "cell_type": "markdown",
   "id": "4fac8240",
   "metadata": {},
   "source": [
    "#### Podsumowując - uzupełnij tabelkę, mam nadzieję, że jeszcze pamiętasz"
   ]
  },
  {
   "cell_type": "markdown",
   "id": "113b274e",
   "metadata": {},
   "source": [
    "|                                kryterium                                \t|     **Język C**    \t|    **Język C++**   \t|\n",
    "|:-----------------------------------------------------------------------:\t|:------------------:\t|:------------------:\t|\n",
    "|                        definiowanie funkcji nie przyjmującej argumentów \t| `void f(/*?*/) {}` \t| `void f(/*?*/) {}` \t|\n",
    "|    definiowanie funkcji przyjmującej dowolną ilość dowolnych argumentów \t| `void f(/*?*/) {}` \t| `void f(/*?*/) {}` \t|\n",
    "| przeładowywanie nazw funkcji - czy możliwe i jakie warunki musi spełnić \t|        ?, ?        \t|        ?, ?        \t|\n",
    "|     allokacja pamięci dynamicznej - czym, jaki nagłówek, jak zwalniamy? \t|          ?         \t|          ?         \t|\n",
    "|                                                              referencje \t|          ?         \t|          ?         \t|\n",
    "|                                   inicjowanie wskaźnika wartością pustą \t|          ?         \t|          ?         \t|\n",
    "|                                               typ/y do trzymania tekstu \t|          ?         \t|          ?         \t|\n",
    "|                                                          dostępne pętle \t|          ?         \t|          ?         \t|\n",
    "|                            jak wygodnie operować na tablicy dynamicznej \t|          ?         \t|          ?         \t|\n",
    "|                                                operacje wejścia/wyjścia \t|          ?         \t|          ?         \t|\n",
    "|                                                   `const` i `constexpr` \t|          ?         \t|          ?         \t|\n",
    "|                                             komenda do kompilacji (Unix) \t|          ?         \t|          ?         \t|\n",
    "|                                             włączanie bibliotek języka C \t|          ?         \t|          ?         \t|"
   ]
  },
  {
   "cell_type": "markdown",
   "id": "18361c8b",
   "metadata": {},
   "source": [
    "Wpisz swoje imię, nazwisko i nr albumu:\n",
    "........."
   ]
  }
 ],
 "metadata": {
  "kernelspec": {
   "display_name": "C++17",
   "language": "C++17",
   "name": "xcpp17"
  },
  "language_info": {
   "codemirror_mode": "text/x-c++src",
   "file_extension": ".cpp",
   "mimetype": "text/x-c++src",
   "name": "c++",
   "version": "17"
  }
 },
 "nbformat": 4,
 "nbformat_minor": 5
}
